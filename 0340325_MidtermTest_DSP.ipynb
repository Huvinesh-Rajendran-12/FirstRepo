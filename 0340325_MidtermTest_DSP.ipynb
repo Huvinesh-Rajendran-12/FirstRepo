{
  "nbformat": 4,
  "nbformat_minor": 0,
  "metadata": {
    "colab": {
      "name": "0340325_MidtermTest_DSP.ipynb",
      "private_outputs": true,
      "provenance": [],
      "authorship_tag": "ABX9TyPmob/PCgViQbrP9Pd9btzG",
      "include_colab_link": true
    },
    "kernelspec": {
      "name": "python3",
      "display_name": "Python 3"
    },
    "language_info": {
      "name": "python"
    }
  },
  "cells": [
    {
      "cell_type": "markdown",
      "metadata": {
        "id": "view-in-github",
        "colab_type": "text"
      },
      "source": [
        "<a href=\"https://colab.research.google.com/github/Huvinesh-Rajendran-12/FirstRepo/blob/master/0340325_MidtermTest_DSP.ipynb\" target=\"_parent\"><img src=\"https://colab.research.google.com/assets/colab-badge.svg\" alt=\"Open In Colab\"/></a>"
      ]
    },
    {
      "cell_type": "markdown",
      "metadata": {
        "id": "xN5geNgV976e"
      },
      "source": [
        "Name : Huvinesh Rajendran \n",
        "\n",
        "Student ID : 0340325 \n",
        "\n",
        "Subject : Test(Data Science Principles) \n",
        "\n",
        "Date: 11th May 2021\n"
      ]
    },
    {
      "cell_type": "markdown",
      "metadata": {
        "id": "y05CLHE3E-O8"
      },
      "source": [
        "# Question 1"
      ]
    },
    {
      "cell_type": "markdown",
      "metadata": {
        "id": "dTVKp0QeKM_2"
      },
      "source": [
        "##Real World Data Science Problem"
      ]
    },
    {
      "cell_type": "markdown",
      "metadata": {
        "id": "KyjANMq_KR07"
      },
      "source": [
        "Data Science can be applied in many industries to solve some of the issues in those industries. One of the industry that needs the help of Data Science very much is healthcare. The real world problem that can be found in healthcare is disease prevention. "
      ]
    },
    {
      "cell_type": "markdown",
      "metadata": {
        "id": "YsgtU-IiM0Xn"
      },
      "source": [
        "## Step 1 : Business Requirement"
      ]
    },
    {
      "cell_type": "markdown",
      "metadata": {
        "id": "X9hqaj83M6J8"
      },
      "source": [
        "Right now, our healthcare system is based on finding cure for existing medical diseases. One of the best ways to evolve the healthcare system is to recognize risks and recommend prevention plans before the health issue becomes a major issue.Hence, a prediction model needs to be developed to recognize and prognose the disease. Data can be gathered from tracking devices, historical patterns and genetic information. "
      ]
    },
    {
      "cell_type": "markdown",
      "metadata": {
        "id": "u34pXz7gUtv9"
      },
      "source": [
        "## Step 2 : Data Collection"
      ]
    },
    {
      "cell_type": "markdown",
      "metadata": {
        "id": "QU_H2l04U0Lu"
      },
      "source": [
        "The data for this prediction model can be collected from various soruces. Those sources can be from wearable devices such as smart watches, fitness trackers, other tracking devices along with the genetic information of the patients and historical patterns. The data from the smart watches and trackers will be pipelined to a secure HDFS database for preprocessing. "
      ]
    },
    {
      "cell_type": "markdown",
      "metadata": {
        "id": "_8__IpZeVzu4"
      },
      "source": [
        "## Step 3 : Data Preparation "
      ]
    },
    {
      "cell_type": "markdown",
      "metadata": {
        "id": "iVtTgPsYV48V"
      },
      "source": [
        "Since the data we gathered are from different sources, they need to be preprocessed and cleaned. This is because unprepared data can lead to an unfucntional prediction model and the prediction model will be less accurate. This cannot happen because any instance of misdiagnosis can be fatal for the patient. The data source should be checked for missing values, corrupted values(invalid entry), inconsistent data, and more.  "
      ]
    },
    {
      "cell_type": "markdown",
      "metadata": {
        "id": "UVBbs-CcKnmQ"
      },
      "source": [
        "## Step 4 : Exploratory Data Analysis"
      ]
    },
    {
      "cell_type": "markdown",
      "metadata": {
        "id": "P2WM8JpYKvqy"
      },
      "source": [
        "Here, we need to explore the data to gain interesting insights from the data. We need to find correlation between the attributes so that we can determine which attributes are useful to build the prediction model for the diagnosis. This process can also be used to find anomalies in the data and remove them. We can use various graphs and visualization tools in order to explore the healthcare data. Since, healthcare data can be complex, visualizing makes the data easy to understand. "
      ]
    },
    {
      "cell_type": "markdown",
      "metadata": {
        "id": "lZq4GU67Nwe3"
      },
      "source": [
        "## Step 5 : Model Development "
      ]
    },
    {
      "cell_type": "markdown",
      "metadata": {
        "id": "X7J_PdQSP3VY"
      },
      "source": [
        "The success of disease prevention is based on early detection of the disease. In order to help the physicians to handle the disease with proper medication, a accurate disease identification is necessary. Hence, a classification algorithm is used to develop this model. The classification algorithm that is chosen is Deep Neural Network(DNN). One of the benefit of DNN neural network is it has the ability to learn themselves and produce output that is not restrictive to the given input. "
      ]
    },
    {
      "cell_type": "markdown",
      "metadata": {
        "id": "1BnOiQKoRHy2"
      },
      "source": [
        "## Step 6 : Visualization"
      ]
    },
    {
      "cell_type": "markdown",
      "metadata": {
        "id": "jEFF7l6PRQGd"
      },
      "source": [
        "The output of the prediction model should be visualized using visualization tools such as graphs and charts in order so that the patients and the physicians can easily understand it. This is because human brain can process visuals more easily than the data which is presented in a spreadsheet format. "
      ]
    },
    {
      "cell_type": "markdown",
      "metadata": {
        "id": "tg0RDv9ZRvVE"
      },
      "source": [
        "## Step 7 : Deploy and maintain"
      ]
    },
    {
      "cell_type": "markdown",
      "metadata": {
        "id": "v_2KiaLhR2pX"
      },
      "source": [
        "Finally, the prediction model should be deployed and maintained in healthcare applications, and websites so that patients and physicians can easily acess them. The model needs to be maintained so that as more data is readily available to the model, it can vastly improve its prediction. "
      ]
    },
    {
      "cell_type": "markdown",
      "metadata": {
        "id": "aIBAowwEnUJk"
      },
      "source": [
        "# Question 2 - Wine Dataset"
      ]
    },
    {
      "cell_type": "markdown",
      "metadata": {
        "id": "GLhtFLTIp0Pp"
      },
      "source": [
        "## Load the dataset"
      ]
    },
    {
      "cell_type": "code",
      "metadata": {
        "id": "F9-UXazqpTMj"
      },
      "source": [
        "from sklearn import datasets \n",
        "dir(datasets)"
      ],
      "execution_count": null,
      "outputs": []
    },
    {
      "cell_type": "markdown",
      "metadata": {
        "id": "gr0nAYrFU0VA"
      },
      "source": [
        "* The datasets are imported from sklearn library."
      ]
    },
    {
      "cell_type": "code",
      "metadata": {
        "id": "sOVUogBJ9MpA"
      },
      "source": [
        "import pandas as pd \n",
        "wine_data = pd.DataFrame(datasets.load_wine().data)"
      ],
      "execution_count": null,
      "outputs": []
    },
    {
      "cell_type": "markdown",
      "metadata": {
        "id": "W0zLFTNyU6Nx"
      },
      "source": [
        "* The pandas library is imported as pd \n",
        "* The wine dataset is loaded into a variable called wine_data."
      ]
    },
    {
      "cell_type": "code",
      "metadata": {
        "id": "sk7C0JEwqOcL"
      },
      "source": [
        "wine_data.columns = datasets.load_wine().feature_names \n",
        "wine_data['quality'] = datasets.load_wine().target"
      ],
      "execution_count": null,
      "outputs": []
    },
    {
      "cell_type": "markdown",
      "metadata": {
        "id": "3ZafPnLqDpsd"
      },
      "source": [
        "* The column names are set to the feature names \n",
        "* The columns of the wine dataset is set to the feature names and then an additional column called quality is created to store the target values. "
      ]
    },
    {
      "cell_type": "markdown",
      "metadata": {
        "id": "j8H5C-VxtW2v"
      },
      "source": [
        "## Explore the data"
      ]
    },
    {
      "cell_type": "code",
      "metadata": {
        "id": "F6FV4gXutcz6"
      },
      "source": [
        "wine_data.shape"
      ],
      "execution_count": null,
      "outputs": []
    },
    {
      "cell_type": "markdown",
      "metadata": {
        "id": "G2dEX5zBEGwf"
      },
      "source": [
        "* The wine dataset has 178 rows and 14 columns "
      ]
    },
    {
      "cell_type": "code",
      "metadata": {
        "id": "Gw9DjJV-t9mn"
      },
      "source": [
        "wine_data.columns"
      ],
      "execution_count": null,
      "outputs": []
    },
    {
      "cell_type": "markdown",
      "metadata": {
        "id": "82O-5GSkEL_S"
      },
      "source": [
        "* These are the columns of the dataset. "
      ]
    },
    {
      "cell_type": "code",
      "metadata": {
        "id": "C5X6mc72YpgC"
      },
      "source": [
        "wine_data = wine_data.rename(columns={'od280/od315_of_diluted_wines':'protein_concentration'})"
      ],
      "execution_count": null,
      "outputs": []
    },
    {
      "cell_type": "markdown",
      "metadata": {
        "id": "dc0d3gE5ZMgU"
      },
      "source": [
        "The column 'od280/0d315_of_diluted_wines' is renamed to 'protein_concentration'. "
      ]
    },
    {
      "cell_type": "code",
      "metadata": {
        "id": "tlArx3yxqfLx"
      },
      "source": [
        "wine_data.head(5)"
      ],
      "execution_count": null,
      "outputs": []
    },
    {
      "cell_type": "markdown",
      "metadata": {
        "id": "nH5vUlrCvvPc"
      },
      "source": [
        "* The first five rows of the wine dataset are printed. "
      ]
    },
    {
      "cell_type": "code",
      "metadata": {
        "id": "_f5BWC48uam9"
      },
      "source": [
        "wine_data.info()"
      ],
      "execution_count": null,
      "outputs": []
    },
    {
      "cell_type": "markdown",
      "metadata": {
        "id": "tR1BFnyPviMC"
      },
      "source": [
        "*  As per the output above, the type of data stored in the wine dataset are float and integer"
      ]
    },
    {
      "cell_type": "code",
      "metadata": {
        "id": "QSDbPmZsvr9b"
      },
      "source": [
        "wine_data.isnull().any()"
      ],
      "execution_count": null,
      "outputs": []
    },
    {
      "cell_type": "markdown",
      "metadata": {
        "id": "fEySaP1gv944"
      },
      "source": [
        "* This wine dataset does not have any missing values. "
      ]
    },
    {
      "cell_type": "code",
      "metadata": {
        "id": "3DCWNeHIwEJ3"
      },
      "source": [
        "\n",
        "print(\"Unique Values\")\n",
        "for col in wine_data.columns.values: \n",
        "  print(\"-----------------------------\")\n",
        "  print(\"{} : {} \".format(col,wine_data[col].nunique()))"
      ],
      "execution_count": null,
      "outputs": []
    },
    {
      "cell_type": "markdown",
      "metadata": {
        "id": "h7Cz_TjKyEzd"
      },
      "source": [
        "* Referring to the output above, *malic_acid* has the most number of unique values(133), and *quality* has the lowest unique values(3)"
      ]
    },
    {
      "cell_type": "code",
      "metadata": {
        "id": "u109p3TuybAM"
      },
      "source": [
        "wine_data.describe()"
      ],
      "execution_count": null,
      "outputs": []
    },
    {
      "cell_type": "markdown",
      "metadata": {
        "id": "MdTenIFVYd4X"
      },
      "source": [
        "The description of the dataset "
      ]
    },
    {
      "cell_type": "code",
      "metadata": {
        "id": "I24jy0L__0C_"
      },
      "source": [
        "wine_data[wine_data.columns].mean()"
      ],
      "execution_count": null,
      "outputs": []
    },
    {
      "cell_type": "markdown",
      "metadata": {
        "id": "qhLAWxFHEoF3"
      },
      "source": [
        "* *proline* has the biggest mean value(746.893) and *nonflavanoid_phenols* has the lowest mean value(0.36)"
      ]
    },
    {
      "cell_type": "code",
      "metadata": {
        "id": "3gV9rWolCrBw"
      },
      "source": [
        "wine_data[wine_data.columns].median()"
      ],
      "execution_count": null,
      "outputs": []
    },
    {
      "cell_type": "markdown",
      "metadata": {
        "id": "fW1Ir7FOFF0d"
      },
      "source": [
        "* *proline* also has the biggest median value(673.5), meanwhile *nonflavanoid_phenols* has the lowest median value(0.34)"
      ]
    },
    {
      "cell_type": "code",
      "metadata": {
        "id": "Hf1zR01JHZ4H"
      },
      "source": [
        "import matplotlib.pyplot as plt\n",
        "import seaborn as sns \n",
        "sns.set(style='darkgrid')\n",
        "plt.figure(figsize=(10,5))\n",
        "ax = sns.countplot(x='quality', data=wine_data)"
      ],
      "execution_count": null,
      "outputs": []
    },
    {
      "cell_type": "markdown",
      "metadata": {
        "id": "gP1VxugnH16K"
      },
      "source": [
        "* The above bar chart shows the number of values for each type of quality of wine.The wine quaility of *1* has the most number of observations meanwhile the wine quality of *2* has the least number of observations among the three.\n",
        "\n"
      ]
    },
    {
      "cell_type": "code",
      "metadata": {
        "id": "aBPWPMHaJ68o"
      },
      "source": [
        "correlation = wine_data.corr()\n",
        "plt.figure(figsize=(14, 8))\n",
        "sns.heatmap(correlation, annot=True, linewidths=0, vmin=-1, cmap=\"RdBu_r\")"
      ],
      "execution_count": null,
      "outputs": []
    },
    {
      "cell_type": "markdown",
      "metadata": {
        "id": "5vEF7j_MVNhK"
      },
      "source": [
        "A heatmap was plotted to find out the correlation between the features in the dataset. \n",
        "\n",
        "*   'alcohol' has a positive correlation with 'proline'.\n",
        "*   'malic_acid' has somewhat of a positive correlation with 'quality' but has a negative correlation with 'hue'. \n",
        "* 'ash' has somewhat positive correlation with 'alcalinity_of_ash'.\n",
        "* 'magnesium' does not have strong correlation with any others features. \n",
        "* 'total_phenols' has a strong negative correlation with 'quality' and a strong positive correlation with 'flavanoids'. \n",
        "*  'nonflavanoid_phenols' has a negative correlation with 'flavanoids' \n",
        "* 'proanthocyannis' has a positive correlation with 'flavanoids' and somewhat negative correlation with 'quality'. \n",
        "* 'color_intensity' has somewhat positive correlation with 'alcohol' and somewhat negative correlation with 'hue'. \n",
        "* 'hue' has a negative correlation with 'quality'. \n",
        "* 'protein_concentration' has a negative correlation with 'quality' and positive correlation with 'flavanoids' and 'total_phenols'. \n",
        "* 'proline' has a negative correlation with 'quality'. \n",
        "\n",
        "In conclusion, 'proline', 'hue', 'protein_concentration', 'flavanoids', 'total_phenols' have strong negative correlation with 'quality'. Hence, any wine that has higher percentage of these substances are poor in quality. \n"
      ]
    },
    {
      "cell_type": "code",
      "metadata": {
        "id": "2gqEgTJ6QMfT"
      },
      "source": [
        "bx = sns.boxplot(x=\"quality\", y='alcohol', data = wine_data)\n",
        "bx.set(xlabel='Wine Quality', ylabel='Alcohol Percent', title='Alcohol percent in different wine quality types')"
      ],
      "execution_count": null,
      "outputs": []
    },
    {
      "cell_type": "markdown",
      "metadata": {
        "id": "TWRsNqMjQTEs"
      },
      "source": [
        "* The above boxplot shows that the wine quality of *0* has the highest alcohol percentage meanwhile the wine quality of *1* has the lowest alcohol percentage. "
      ]
    },
    {
      "cell_type": "code",
      "metadata": {
        "id": "ZUu8S9dWQiIt"
      },
      "source": [
        "bx = sns.boxplot(x=\"quality\", y='malic_acid', data = wine_data)\n",
        "bx.set(xlabel='Wine Quality', ylabel='malic acid percentage', title='Percentage of Malic acid in different types of Wine quality')"
      ],
      "execution_count": null,
      "outputs": []
    },
    {
      "cell_type": "markdown",
      "metadata": {
        "id": "xikLV89LRJR_"
      },
      "source": [
        "* The above boxplot shows that the wine quality of *2* has the highest malic acid percentage meanwhile the wine quality of *0* has the lowest malic acid percentage. "
      ]
    },
    {
      "cell_type": "code",
      "metadata": {
        "id": "eFllPc7kRVUf"
      },
      "source": [
        "bx = sns.violinplot(x=\"quality\", y='color_intensity', data = wine_data)\n",
        "bx.set(xlabel='Wine Quality', ylabel='Color Intensity', title='Color Intensity in different types of Wine quality')"
      ],
      "execution_count": null,
      "outputs": []
    },
    {
      "cell_type": "markdown",
      "metadata": {
        "id": "6Wv6FgjfTEEU"
      },
      "source": [
        "* The above violin plot shows that the color intensity of the wine is highest in quality *2* and lowest in quality *1*. "
      ]
    },
    {
      "cell_type": "code",
      "metadata": {
        "id": "0Xy9lIpNTTQP"
      },
      "source": [
        "sns.lmplot(x = \"alcohol\", y = \"proline\", col = \"quality\", data = wine_data)"
      ],
      "execution_count": null,
      "outputs": []
    },
    {
      "cell_type": "markdown",
      "metadata": {
        "id": "kruCBGoAbr9D"
      },
      "source": [
        "* The above linear regression graph shows the regression between alcohol and proline of the wine. \n",
        "* We can observe from the trendline that for quality 1 and 2, the proline remains almost constant irrespective of the alcohol content value, but for quality 0 the proline increase gradually with the alcohol content value. "
      ]
    },
    {
      "cell_type": "code",
      "metadata": {
        "id": "vdSEpY3Whzsn"
      },
      "source": [
        "sns.lmplot(x = \"color_intensity\", y = \"hue\", col = \"quality\", data = wine_data)"
      ],
      "execution_count": null,
      "outputs": []
    },
    {
      "cell_type": "markdown",
      "metadata": {
        "id": "LhfJcUEsivvI"
      },
      "source": [
        "* The above linear regression graph shows the regression between color_intensity and hue. \n",
        "* For quality 0 and 1, we can observe that the trend line remains constant irrespective of the content value of hue. But for quality 2, the trend line decreases gradually with the content value of hue. "
      ]
    },
    {
      "cell_type": "markdown",
      "metadata": {
        "id": "Z2t5WOqTdEBC"
      },
      "source": [
        "# Question 3 "
      ]
    },
    {
      "cell_type": "markdown",
      "metadata": {
        "id": "c2srlOjYdF_G"
      },
      "source": [
        "Information gathered: \n",
        "\n",
        "\n",
        "*   Total number of physicians : 160 \n",
        "*   Number of pediatricians : 25 \n",
        "*   Number of non-pediatricians : 135 \n",
        "*   Number of females : 75 \n",
        "*   Number of males : 85 \n",
        "\n"
      ]
    },
    {
      "cell_type": "markdown",
      "metadata": {
        "id": "S2oBLJCSg1wu"
      },
      "source": [
        "From the information gathered, we can construct the following table : "
      ]
    },
    {
      "cell_type": "markdown",
      "metadata": {
        "id": "-95dmBmcg7KC"
      },
      "source": [
        "||Number of physicians|Pediatricians|Non-pediatricians \n",
        "|--------|--------|----------|----------| \n",
        "Female|75|20|55\n",
        "Male|85|5|80\n",
        "Total|160|25|135"
      ]
    },
    {
      "cell_type": "markdown",
      "metadata": {
        "id": "DgtAjTiHmUTo"
      },
      "source": [
        "## 3.1 Are the events 'female' and 'pediatricians' independent ?"
      ]
    },
    {
      "cell_type": "markdown",
      "metadata": {
        "id": "13PABdZwmjxK"
      },
      "source": [
        "For two events to be independent, they need to comply the follwoing rule: \n",
        "\n",
        "P(A and B) = P(A) x P(B)\n",
        "\n",
        "Hence, we need to calculate: \n",
        "* Probability of female and pediatricians \n",
        "* Probability of female \n",
        "* Probability of pediatricians \n",
        "\n",
        "Let, \n",
        "* Female = F\n",
        "* Pediatricians = P"
      ]
    },
    {
      "cell_type": "markdown",
      "metadata": {
        "id": "vuYDdfnhWv4M"
      },
      "source": [
        "Step 1 : create the variables that are needed for calculation "
      ]
    },
    {
      "cell_type": "code",
      "metadata": {
        "id": "NaZ7HF33kdlJ"
      },
      "source": [
        "# number of female and pediatricians \n",
        "female_and_pediatricians = 20\n",
        "# number of female  \n",
        "female = 75 \n",
        "# number of pediatricians \n",
        "pediatricians = 25 \n",
        "# total nymber of physicians \n",
        "total_number_physicians = 160"
      ],
      "execution_count": null,
      "outputs": []
    },
    {
      "cell_type": "markdown",
      "metadata": {
        "id": "AB9XJQErW6TC"
      },
      "source": [
        "Step 2 : Calculate the probability and present the answer. "
      ]
    },
    {
      "cell_type": "code",
      "metadata": {
        "id": "Ixl3hN3rW24S"
      },
      "source": [
        "probability_female_and_pediatricians = female_and_pediatricians/total_number_physicians \n",
        "probability_female = female/total_number_physicians \n",
        "probability_pediatricians = pediatricians/total_number_physicians\n",
        "print(\"P(F and P): {}\".format(probability_female_and_pediatricians))\n",
        "print(\"P(F) x P(P): {}\".format(probability_female*probability_pediatricians))\n",
        "\n",
        "if(probability_female_and_pediatricians==(probability_female*probability_pediatricians)): \n",
        "  print(\"Female and Pediatricians are independent.\")\n",
        "else: \n",
        "  print(\"Female and Pediatricians are not independent.\")\n"
      ],
      "execution_count": null,
      "outputs": []
    },
    {
      "cell_type": "markdown",
      "metadata": {
        "id": "OB2fvDLeq8M9"
      },
      "source": [
        "In conclusion, the events 'Female' and 'Pediatricians' are not independent beccause they did not comply the rule P(A and B) = P(A) x P(B). "
      ]
    },
    {
      "cell_type": "markdown",
      "metadata": {
        "id": "m-ZmnWhWiMEH"
      },
      "source": [
        "## 3.2 Are the events 'Female' and 'Pediatricians' mutually exclusive ? "
      ]
    },
    {
      "cell_type": "markdown",
      "metadata": {
        "id": "mhHAXgJhsp7E"
      },
      "source": [
        "For two events to be mutually exclusive, they need to comply the following rule:\n",
        "\n",
        "P(A or B) = P(A) + P(B) "
      ]
    },
    {
      "cell_type": "code",
      "metadata": {
        "id": "RyAiUvDNtBjo"
      },
      "source": [
        "probability_female_or_pediatricians = ((female+pediatricians)/total_number_physicians) - probability_female_and_pediatricians \n",
        "print(\"P(F or P) : {}\".format(probability_female_or_pediatricians))\n",
        "print(\"P(F)+P(P) : {}\".format(probability_female+probability_pediatricians))\n",
        "if(probability_female_or_pediatricians==(probability_female+probability_pediatricians)): \n",
        "  print(\"Female and Pediatricians are mutually exclusive.\")\n",
        "else: \n",
        "  print(\"Female and Pediatricians are not mutually exclusive.\")\n"
      ],
      "execution_count": null,
      "outputs": []
    },
    {
      "cell_type": "markdown",
      "metadata": {
        "id": "Z3OHD3wUwR7m"
      },
      "source": [
        "Since, the events 'Female' and 'Pediatricians' did not comply the rule P(A or B) = P(A) + P(B), they are not mutually exclusive. "
      ]
    },
    {
      "cell_type": "markdown",
      "metadata": {
        "id": "8_CUibjBwhWF"
      },
      "source": [
        "# Question 4 "
      ]
    },
    {
      "cell_type": "markdown",
      "metadata": {
        "id": "hU-hRGnEwkR-"
      },
      "source": [
        "Real-World problem: \n",
        "\n",
        "80 % of people who watch football are men. If 100 people who watch football are randomly selected, find the probability that exactly 73 are men. "
      ]
    },
    {
      "cell_type": "markdown",
      "metadata": {
        "id": "ApNZC1UZ2Nam"
      },
      "source": [
        "Formula of Binomial Distribution: \n",
        "\n",
        "P(X) = (factorial(n) / factorial(n-X) x factorial(X)) x (p)^X x (q)^(n-X) \n",
        "\n",
        "where, \n",
        "\n",
        "\n",
        "*   n is number of randomly selected items \n",
        "*   X is the number that you need to find probability for \n",
        "*   p is the probability of success \n",
        "*   q is the probability of failure \n",
        "\n"
      ]
    },
    {
      "cell_type": "markdown",
      "metadata": {
        "id": "puW1EIrx7zaw"
      },
      "source": [
        "Information gathered from the problem : \n",
        "\n",
        "* The number of randomly selected people are 100, hence, n = 100. \n",
        "\n",
        "* The probability of men that needs to be calculated is 73, hence, X= 73.\n",
        "\n",
        "* The probability of success of men watching football is 80%, hence, p = 0.8 \n",
        "\n",
        "* The probability of failure is total probability minus probability of success. Hence, q = 1.00 - 0.80 = 0.20. Hence, q is 0.20"
      ]
    },
    {
      "cell_type": "markdown",
      "metadata": {
        "id": "GtVO_NjH_gG0"
      },
      "source": [
        "Step 1 : In order to calculate the factorials of the variables, the function factorial from the math library can be used. Then calculate the factorial of n, X and n minus X. "
      ]
    },
    {
      "cell_type": "code",
      "metadata": {
        "id": "FN59B8im_7Hl"
      },
      "source": [
        "import math\n",
        "n = 100 \n",
        "X = 73 \n",
        "p = 0.8 \n",
        "q = 0.2\n",
        "# n! \n",
        "factorial_n = math.factorial(n)\n",
        "# (n-X)!\n",
        "factorial_n_minus_X = math.factorial(n-X)\n",
        "# X!\n",
        "factorial_X = math.factorial(X)"
      ],
      "execution_count": null,
      "outputs": []
    },
    {
      "cell_type": "markdown",
      "metadata": {
        "id": "AYYQfvBoESAZ"
      },
      "source": [
        "Step 2 : Calculate the backend of the formula, p^(X) and q(n-X). "
      ]
    },
    {
      "cell_type": "code",
      "metadata": {
        "id": "2j1lpRQwCagL"
      },
      "source": [
        "# p ^ (X)\n",
        "p_power_X = p ** X \n",
        "# q ^ (n-X)\n",
        "q_power_n_minus_X = q ** (n-X)"
      ],
      "execution_count": null,
      "outputs": []
    },
    {
      "cell_type": "markdown",
      "metadata": {
        "id": "mqGpzlQYG1Ig"
      },
      "source": [
        "Step 3 : Replace all the variables in the binomial distribution formula and calculate the probability. "
      ]
    },
    {
      "cell_type": "code",
      "metadata": {
        "id": "7jVGXMazCyMW"
      },
      "source": [
        "probability_binomial_distribution = (factorial_n/(factorial_n_minus_X*factorial_X))*p_power_X*q_power_n_minus_X\n",
        "print(\"The binomial disttribution probability : {}\".format(probability_binomial_distribution))"
      ],
      "execution_count": null,
      "outputs": []
    },
    {
      "cell_type": "markdown",
      "metadata": {
        "id": "2EUkrWEq8DsZ"
      },
      "source": [
        "In conclusion, the binomial distribution of exactly having 73 men out of 100 people watching football is 0.02168. "
      ]
    }
  ]
}